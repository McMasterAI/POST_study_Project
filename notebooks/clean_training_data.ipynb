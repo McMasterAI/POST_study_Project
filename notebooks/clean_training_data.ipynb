{
 "cells": [
  {
   "cell_type": "code",
   "execution_count": 4,
   "id": "0a8a55a0",
   "metadata": {},
   "outputs": [],
   "source": [
    "import pandas as pd\n",
    "import numpy as np\n",
    "import re"
   ]
  },
  {
   "cell_type": "markdown",
   "id": "55b157c5",
   "metadata": {},
   "source": [
    "## Goal is to deal with object columns\n",
    "\n",
    "What does that mean?\n",
    "* some object columns are mostly numeric but because of some string, ie \"11 years\", this makes the entire column object.\n",
    "* random \".\" in the data converts the column to objects\n",
    "\n",
    "We can either drop or fix the column "
   ]
  },
  {
   "cell_type": "code",
   "execution_count": 81,
   "id": "bb3e54da",
   "metadata": {},
   "outputs": [],
   "source": [
    "df = pd.read_csv('raw_patient_data.csv', low_memory=False)"
   ]
  },
  {
   "cell_type": "code",
   "execution_count": 82,
   "id": "57629d79",
   "metadata": {},
   "outputs": [
    {
     "data": {
      "text/plain": [
       "int64      371\n",
       "object      74\n",
       "float64     72\n",
       "dtype: int64"
      ]
     },
     "execution_count": 82,
     "metadata": {},
     "output_type": "execute_result"
    }
   ],
   "source": [
    "df.dtypes.value_counts()"
   ]
  },
  {
   "cell_type": "markdown",
   "id": "a928c214",
   "metadata": {},
   "source": [
    "## 119 object columns, lets take a look"
   ]
  },
  {
   "cell_type": "code",
   "execution_count": 83,
   "id": "dc8fbfe8",
   "metadata": {},
   "outputs": [],
   "source": [
    "df_objects = df.select_dtypes('object')"
   ]
  },
  {
   "cell_type": "code",
   "execution_count": 84,
   "id": "cf7446bb",
   "metadata": {},
   "outputs": [
    {
     "data": {
      "text/html": [
       "<div>\n",
       "<style scoped>\n",
       "    .dataframe tbody tr th:only-of-type {\n",
       "        vertical-align: middle;\n",
       "    }\n",
       "\n",
       "    .dataframe tbody tr th {\n",
       "        vertical-align: top;\n",
       "    }\n",
       "\n",
       "    .dataframe thead th {\n",
       "        text-align: right;\n",
       "    }\n",
       "</style>\n",
       "<table border=\"1\" class=\"dataframe\">\n",
       "  <thead>\n",
       "    <tr style=\"text-align: right;\">\n",
       "      <th></th>\n",
       "      <th>ices_caseid</th>\n",
       "      <th>ices_b8cannabis</th>\n",
       "      <th>ices_ivtimes</th>\n",
       "      <th>ices_ivshare</th>\n",
       "      <th>ices_numsex</th>\n",
       "      <th>ices_dayspartnerconflict</th>\n",
       "      <th>ices_numpaidwork</th>\n",
       "      <th>ices_ofvehicleday</th>\n",
       "      <th>ices_mealhour</th>\n",
       "      <th>ices_osathour</th>\n",
       "      <th>...</th>\n",
       "      <th>ices_whereother</th>\n",
       "      <th>ices_legalprescriptmj</th>\n",
       "      <th>ices_salivadate</th>\n",
       "      <th>ices_salivanumber</th>\n",
       "      <th>ices_doseaddcomm2</th>\n",
       "      <th>ices_urinelabel</th>\n",
       "      <th>ices_addcomm3</th>\n",
       "      <th>ices_addcomm6</th>\n",
       "      <th>ices_addcomm9</th>\n",
       "      <th>ices_addcomm12</th>\n",
       "    </tr>\n",
       "  </thead>\n",
       "  <tbody>\n",
       "    <tr>\n",
       "      <th>0</th>\n",
       "      <td>021-0001</td>\n",
       "      <td>0</td>\n",
       "      <td>NaN</td>\n",
       "      <td>.</td>\n",
       "      <td>0</td>\n",
       "      <td>NaN</td>\n",
       "      <td>0</td>\n",
       "      <td>0</td>\n",
       "      <td>2</td>\n",
       "      <td>1</td>\n",
       "      <td>...</td>\n",
       "      <td>NaN</td>\n",
       "      <td>NaN</td>\n",
       "      <td>36:00.0</td>\n",
       "      <td>POST-021-0001-S</td>\n",
       "      <td>NaN</td>\n",
       "      <td>NaN</td>\n",
       "      <td>NaN</td>\n",
       "      <td>NaN</td>\n",
       "      <td>NaN</td>\n",
       "      <td>NaN</td>\n",
       "    </tr>\n",
       "    <tr>\n",
       "      <th>1</th>\n",
       "      <td>021-0002</td>\n",
       "      <td>30</td>\n",
       "      <td>NaN</td>\n",
       "      <td>.</td>\n",
       "      <td>0</td>\n",
       "      <td>NaN</td>\n",
       "      <td>0</td>\n",
       "      <td>0</td>\n",
       "      <td>15</td>\n",
       "      <td>24</td>\n",
       "      <td>...</td>\n",
       "      <td>NaN</td>\n",
       "      <td>NaN</td>\n",
       "      <td>27:00.0</td>\n",
       "      <td>POST-021-0002-S</td>\n",
       "      <td>NaN</td>\n",
       "      <td>NaN</td>\n",
       "      <td>NaN</td>\n",
       "      <td>NaN</td>\n",
       "      <td>NaN</td>\n",
       "      <td>NaN</td>\n",
       "    </tr>\n",
       "    <tr>\n",
       "      <th>2</th>\n",
       "      <td>021-0003</td>\n",
       "      <td>0</td>\n",
       "      <td>NaN</td>\n",
       "      <td>.</td>\n",
       "      <td>0</td>\n",
       "      <td>NaN</td>\n",
       "      <td>0</td>\n",
       "      <td>0</td>\n",
       "      <td>3</td>\n",
       "      <td>27</td>\n",
       "      <td>...</td>\n",
       "      <td>NaN</td>\n",
       "      <td>NaN</td>\n",
       "      <td>11:00.0</td>\n",
       "      <td>POST-021-0003-S</td>\n",
       "      <td>NaN</td>\n",
       "      <td>NaN</td>\n",
       "      <td>NaN</td>\n",
       "      <td>NaN</td>\n",
       "      <td>NaN</td>\n",
       "      <td>NaN</td>\n",
       "    </tr>\n",
       "    <tr>\n",
       "      <th>3</th>\n",
       "      <td>021-0004</td>\n",
       "      <td>0</td>\n",
       "      <td>NaN</td>\n",
       "      <td>.</td>\n",
       "      <td>0</td>\n",
       "      <td>NaN</td>\n",
       "      <td>20</td>\n",
       "      <td>0</td>\n",
       "      <td>0.5</td>\n",
       "      <td>0.3</td>\n",
       "      <td>...</td>\n",
       "      <td>NaN</td>\n",
       "      <td>NaN</td>\n",
       "      <td>38:00.0</td>\n",
       "      <td>POST-021-0004-S</td>\n",
       "      <td>NaN</td>\n",
       "      <td>NaN</td>\n",
       "      <td>NaN</td>\n",
       "      <td>NaN</td>\n",
       "      <td>NaN</td>\n",
       "      <td>Transferred to another provider @ March 7, 2019</td>\n",
       "    </tr>\n",
       "    <tr>\n",
       "      <th>4</th>\n",
       "      <td>021-0006</td>\n",
       "      <td>0</td>\n",
       "      <td>NaN</td>\n",
       "      <td>.</td>\n",
       "      <td>0</td>\n",
       "      <td>NaN</td>\n",
       "      <td>0</td>\n",
       "      <td>0</td>\n",
       "      <td>72</td>\n",
       "      <td>5</td>\n",
       "      <td>...</td>\n",
       "      <td>NaN</td>\n",
       "      <td>NaN</td>\n",
       "      <td>18:00.0</td>\n",
       "      <td>POST-021-0006-S</td>\n",
       "      <td>NaN</td>\n",
       "      <td>NaN</td>\n",
       "      <td>NaN</td>\n",
       "      <td>NaN</td>\n",
       "      <td>NaN</td>\n",
       "      <td>NaN</td>\n",
       "    </tr>\n",
       "  </tbody>\n",
       "</table>\n",
       "<p>5 rows × 74 columns</p>\n",
       "</div>"
      ],
      "text/plain": [
       "  ices_caseid ices_b8cannabis ices_ivtimes ices_ivshare ices_numsex  \\\n",
       "0    021-0001               0          NaN            .           0   \n",
       "1    021-0002              30          NaN            .           0   \n",
       "2    021-0003               0          NaN            .           0   \n",
       "3    021-0004               0          NaN            .           0   \n",
       "4    021-0006               0          NaN            .           0   \n",
       "\n",
       "  ices_dayspartnerconflict ices_numpaidwork ices_ofvehicleday ices_mealhour  \\\n",
       "0                      NaN                0                 0             2   \n",
       "1                      NaN                0                 0            15   \n",
       "2                      NaN                0                 0             3   \n",
       "3                      NaN               20                 0           0.5   \n",
       "4                      NaN                0                 0            72   \n",
       "\n",
       "  ices_osathour  ... ices_whereother ices_legalprescriptmj ices_salivadate  \\\n",
       "0             1  ...             NaN                   NaN         36:00.0   \n",
       "1            24  ...             NaN                   NaN         27:00.0   \n",
       "2            27  ...             NaN                   NaN         11:00.0   \n",
       "3           0.3  ...             NaN                   NaN         38:00.0   \n",
       "4             5  ...             NaN                   NaN         18:00.0   \n",
       "\n",
       "  ices_salivanumber ices_doseaddcomm2 ices_urinelabel ices_addcomm3  \\\n",
       "0   POST-021-0001-S               NaN             NaN           NaN   \n",
       "1   POST-021-0002-S               NaN             NaN           NaN   \n",
       "2   POST-021-0003-S               NaN             NaN           NaN   \n",
       "3   POST-021-0004-S               NaN             NaN           NaN   \n",
       "4   POST-021-0006-S               NaN             NaN           NaN   \n",
       "\n",
       "  ices_addcomm6 ices_addcomm9                                   ices_addcomm12  \n",
       "0           NaN           NaN                                              NaN  \n",
       "1           NaN           NaN                                              NaN  \n",
       "2           NaN           NaN                                              NaN  \n",
       "3           NaN           NaN  Transferred to another provider @ March 7, 2019  \n",
       "4           NaN           NaN                                              NaN  \n",
       "\n",
       "[5 rows x 74 columns]"
      ]
     },
     "execution_count": 84,
     "metadata": {},
     "output_type": "execute_result"
    }
   ],
   "source": [
    "df_objects.head()"
   ]
  },
  {
   "cell_type": "markdown",
   "id": "c0872b63",
   "metadata": {},
   "source": [
    "### Dealing with \".\" in the data"
   ]
  },
  {
   "cell_type": "code",
   "execution_count": 85,
   "id": "19f3bd28",
   "metadata": {},
   "outputs": [
    {
     "name": "stderr",
     "output_type": "stream",
     "text": [
      "C:\\Users\\Hafez\\AppData\\Local\\Programs\\Python\\Python39\\lib\\site-packages\\pandas\\core\\indexing.py:1843: SettingWithCopyWarning: \n",
      "A value is trying to be set on a copy of a slice from a DataFrame.\n",
      "Try using .loc[row_indexer,col_indexer] = value instead\n",
      "\n",
      "See the caveats in the documentation: https://pandas.pydata.org/pandas-docs/stable/user_guide/indexing.html#returning-a-view-versus-a-copy\n",
      "  self.obj[item_labels[indexer[info_axis]]] = value\n"
     ]
    }
   ],
   "source": [
    "# iterate through the df_objects dataframe and replace any . with a 0\n",
    "\n",
    "for col in df_objects.columns:\n",
    "    df_objects.loc[:,col] = df_objects[col].replace('.',0).copy()"
   ]
  },
  {
   "cell_type": "code",
   "execution_count": 86,
   "id": "3a72f742",
   "metadata": {},
   "outputs": [
    {
     "data": {
      "text/html": [
       "<div>\n",
       "<style scoped>\n",
       "    .dataframe tbody tr th:only-of-type {\n",
       "        vertical-align: middle;\n",
       "    }\n",
       "\n",
       "    .dataframe tbody tr th {\n",
       "        vertical-align: top;\n",
       "    }\n",
       "\n",
       "    .dataframe thead th {\n",
       "        text-align: right;\n",
       "    }\n",
       "</style>\n",
       "<table border=\"1\" class=\"dataframe\">\n",
       "  <thead>\n",
       "    <tr style=\"text-align: right;\">\n",
       "      <th></th>\n",
       "      <th>ices_caseid</th>\n",
       "      <th>ices_b8cannabis</th>\n",
       "      <th>ices_ivtimes</th>\n",
       "      <th>ices_ivshare</th>\n",
       "      <th>ices_numsex</th>\n",
       "      <th>ices_dayspartnerconflict</th>\n",
       "      <th>ices_numpaidwork</th>\n",
       "      <th>ices_ofvehicleday</th>\n",
       "      <th>ices_mealhour</th>\n",
       "      <th>ices_osathour</th>\n",
       "      <th>...</th>\n",
       "      <th>ices_whereother</th>\n",
       "      <th>ices_legalprescriptmj</th>\n",
       "      <th>ices_salivadate</th>\n",
       "      <th>ices_salivanumber</th>\n",
       "      <th>ices_doseaddcomm2</th>\n",
       "      <th>ices_urinelabel</th>\n",
       "      <th>ices_addcomm3</th>\n",
       "      <th>ices_addcomm6</th>\n",
       "      <th>ices_addcomm9</th>\n",
       "      <th>ices_addcomm12</th>\n",
       "    </tr>\n",
       "  </thead>\n",
       "  <tbody>\n",
       "    <tr>\n",
       "      <th>0</th>\n",
       "      <td>021-0001</td>\n",
       "      <td>0</td>\n",
       "      <td>NaN</td>\n",
       "      <td>0</td>\n",
       "      <td>0</td>\n",
       "      <td>NaN</td>\n",
       "      <td>0</td>\n",
       "      <td>0</td>\n",
       "      <td>2</td>\n",
       "      <td>1</td>\n",
       "      <td>...</td>\n",
       "      <td>NaN</td>\n",
       "      <td>NaN</td>\n",
       "      <td>36:00.0</td>\n",
       "      <td>POST-021-0001-S</td>\n",
       "      <td>NaN</td>\n",
       "      <td>NaN</td>\n",
       "      <td>NaN</td>\n",
       "      <td>NaN</td>\n",
       "      <td>NaN</td>\n",
       "      <td>NaN</td>\n",
       "    </tr>\n",
       "    <tr>\n",
       "      <th>1</th>\n",
       "      <td>021-0002</td>\n",
       "      <td>30</td>\n",
       "      <td>NaN</td>\n",
       "      <td>0</td>\n",
       "      <td>0</td>\n",
       "      <td>NaN</td>\n",
       "      <td>0</td>\n",
       "      <td>0</td>\n",
       "      <td>15</td>\n",
       "      <td>24</td>\n",
       "      <td>...</td>\n",
       "      <td>NaN</td>\n",
       "      <td>NaN</td>\n",
       "      <td>27:00.0</td>\n",
       "      <td>POST-021-0002-S</td>\n",
       "      <td>NaN</td>\n",
       "      <td>NaN</td>\n",
       "      <td>NaN</td>\n",
       "      <td>NaN</td>\n",
       "      <td>NaN</td>\n",
       "      <td>NaN</td>\n",
       "    </tr>\n",
       "    <tr>\n",
       "      <th>2</th>\n",
       "      <td>021-0003</td>\n",
       "      <td>0</td>\n",
       "      <td>NaN</td>\n",
       "      <td>0</td>\n",
       "      <td>0</td>\n",
       "      <td>NaN</td>\n",
       "      <td>0</td>\n",
       "      <td>0</td>\n",
       "      <td>3</td>\n",
       "      <td>27</td>\n",
       "      <td>...</td>\n",
       "      <td>NaN</td>\n",
       "      <td>NaN</td>\n",
       "      <td>11:00.0</td>\n",
       "      <td>POST-021-0003-S</td>\n",
       "      <td>NaN</td>\n",
       "      <td>NaN</td>\n",
       "      <td>NaN</td>\n",
       "      <td>NaN</td>\n",
       "      <td>NaN</td>\n",
       "      <td>NaN</td>\n",
       "    </tr>\n",
       "    <tr>\n",
       "      <th>3</th>\n",
       "      <td>021-0004</td>\n",
       "      <td>0</td>\n",
       "      <td>NaN</td>\n",
       "      <td>0</td>\n",
       "      <td>0</td>\n",
       "      <td>NaN</td>\n",
       "      <td>20</td>\n",
       "      <td>0</td>\n",
       "      <td>0.5</td>\n",
       "      <td>0.3</td>\n",
       "      <td>...</td>\n",
       "      <td>NaN</td>\n",
       "      <td>NaN</td>\n",
       "      <td>38:00.0</td>\n",
       "      <td>POST-021-0004-S</td>\n",
       "      <td>NaN</td>\n",
       "      <td>NaN</td>\n",
       "      <td>NaN</td>\n",
       "      <td>NaN</td>\n",
       "      <td>NaN</td>\n",
       "      <td>Transferred to another provider @ March 7, 2019</td>\n",
       "    </tr>\n",
       "    <tr>\n",
       "      <th>4</th>\n",
       "      <td>021-0006</td>\n",
       "      <td>0</td>\n",
       "      <td>NaN</td>\n",
       "      <td>0</td>\n",
       "      <td>0</td>\n",
       "      <td>NaN</td>\n",
       "      <td>0</td>\n",
       "      <td>0</td>\n",
       "      <td>72</td>\n",
       "      <td>5</td>\n",
       "      <td>...</td>\n",
       "      <td>NaN</td>\n",
       "      <td>NaN</td>\n",
       "      <td>18:00.0</td>\n",
       "      <td>POST-021-0006-S</td>\n",
       "      <td>NaN</td>\n",
       "      <td>NaN</td>\n",
       "      <td>NaN</td>\n",
       "      <td>NaN</td>\n",
       "      <td>NaN</td>\n",
       "      <td>NaN</td>\n",
       "    </tr>\n",
       "  </tbody>\n",
       "</table>\n",
       "<p>5 rows × 74 columns</p>\n",
       "</div>"
      ],
      "text/plain": [
       "  ices_caseid ices_b8cannabis ices_ivtimes ices_ivshare ices_numsex  \\\n",
       "0    021-0001               0          NaN            0           0   \n",
       "1    021-0002              30          NaN            0           0   \n",
       "2    021-0003               0          NaN            0           0   \n",
       "3    021-0004               0          NaN            0           0   \n",
       "4    021-0006               0          NaN            0           0   \n",
       "\n",
       "  ices_dayspartnerconflict ices_numpaidwork ices_ofvehicleday ices_mealhour  \\\n",
       "0                      NaN                0                 0             2   \n",
       "1                      NaN                0                 0            15   \n",
       "2                      NaN                0                 0             3   \n",
       "3                      NaN               20                 0           0.5   \n",
       "4                      NaN                0                 0            72   \n",
       "\n",
       "  ices_osathour  ... ices_whereother ices_legalprescriptmj ices_salivadate  \\\n",
       "0             1  ...             NaN                   NaN         36:00.0   \n",
       "1            24  ...             NaN                   NaN         27:00.0   \n",
       "2            27  ...             NaN                   NaN         11:00.0   \n",
       "3           0.3  ...             NaN                   NaN         38:00.0   \n",
       "4             5  ...             NaN                   NaN         18:00.0   \n",
       "\n",
       "  ices_salivanumber ices_doseaddcomm2 ices_urinelabel ices_addcomm3  \\\n",
       "0   POST-021-0001-S               NaN             NaN           NaN   \n",
       "1   POST-021-0002-S               NaN             NaN           NaN   \n",
       "2   POST-021-0003-S               NaN             NaN           NaN   \n",
       "3   POST-021-0004-S               NaN             NaN           NaN   \n",
       "4   POST-021-0006-S               NaN             NaN           NaN   \n",
       "\n",
       "  ices_addcomm6 ices_addcomm9                                   ices_addcomm12  \n",
       "0           NaN           NaN                                              NaN  \n",
       "1           NaN           NaN                                              NaN  \n",
       "2           NaN           NaN                                              NaN  \n",
       "3           NaN           NaN  Transferred to another provider @ March 7, 2019  \n",
       "4           NaN           NaN                                              NaN  \n",
       "\n",
       "[5 rows x 74 columns]"
      ]
     },
     "execution_count": 86,
     "metadata": {},
     "output_type": "execute_result"
    }
   ],
   "source": [
    "df_objects.head()"
   ]
  },
  {
   "cell_type": "markdown",
   "id": "683b6e2c",
   "metadata": {},
   "source": [
    "We will investigate `ices_osathour`"
   ]
  },
  {
   "cell_type": "code",
   "execution_count": 87,
   "id": "07a18983",
   "metadata": {},
   "outputs": [],
   "source": [
    "col = 'ices_osathour'"
   ]
  },
  {
   "cell_type": "code",
   "execution_count": 88,
   "id": "6c31a975",
   "metadata": {},
   "outputs": [
    {
     "data": {
      "text/plain": [
       "0.5      448\n",
       "24       307\n",
       "1         93\n",
       "25        62\n",
       "26        61\n",
       "        ... \n",
       "29.5       1\n",
       "37         1\n",
       "73         1\n",
       "0.166      1\n",
       "40         1\n",
       "Name: ices_osathour, Length: 107, dtype: int64"
      ]
     },
     "execution_count": 88,
     "metadata": {},
     "output_type": "execute_result"
    }
   ],
   "source": [
    "df_objects[col].value_counts()"
   ]
  },
  {
   "cell_type": "markdown",
   "id": "18036f7d",
   "metadata": {},
   "source": [
    "Clearly we have a bunch of incorrect inputs, we can convert them to numeric and that will change them to nulls. We will do this because it's the easiest way to deal with them lol... let's check how many we can convert to numeric."
   ]
  },
  {
   "cell_type": "code",
   "execution_count": 89,
   "id": "6cb70984",
   "metadata": {},
   "outputs": [
    {
     "data": {
      "text/plain": [
       "1733"
      ]
     },
     "execution_count": 89,
     "metadata": {},
     "output_type": "execute_result"
    }
   ],
   "source": [
    "sum(pd.to_numeric(df_objects['ices_osathour'], errors='coerce').notnull())"
   ]
  },
  {
   "cell_type": "markdown",
   "id": "aba44b1e",
   "metadata": {},
   "source": [
    "Cool, 1635 out of 1734.. not bad. We can do the same for every other column and then evaluate whether we actually want to continue in this way or just simply drop the column. Some columns have too many nulls even after converting them, so we can just get rid of them."
   ]
  },
  {
   "cell_type": "markdown",
   "id": "aa45800b",
   "metadata": {},
   "source": [
    "Let's columns that have too many nulls.. we can say any column with over 800 nulls we drop"
   ]
  },
  {
   "cell_type": "code",
   "execution_count": 90,
   "id": "779c766d",
   "metadata": {},
   "outputs": [
    {
     "name": "stderr",
     "output_type": "stream",
     "text": [
      "C:\\Users\\Hafez\\AppData\\Local\\Programs\\Python\\Python39\\lib\\site-packages\\pandas\\core\\frame.py:4308: SettingWithCopyWarning: \n",
      "A value is trying to be set on a copy of a slice from a DataFrame\n",
      "\n",
      "See the caveats in the documentation: https://pandas.pydata.org/pandas-docs/stable/user_guide/indexing.html#returning-a-view-versus-a-copy\n",
      "  return super().drop(\n"
     ]
    }
   ],
   "source": [
    "for col in df_objects.columns:\n",
    "    if sum(pd.to_numeric(df_objects[col], errors='coerce').isnull()) > 800:\n",
    "        df_objects.drop(col,axis=1,inplace=True)"
   ]
  },
  {
   "cell_type": "markdown",
   "id": "fe5f3da2",
   "metadata": {},
   "source": [
    "We can check how many nulls we still have AFTER we convert to numeric."
   ]
  },
  {
   "cell_type": "code",
   "execution_count": 91,
   "id": "9e77c1cb",
   "metadata": {},
   "outputs": [],
   "source": [
    "num_nulls = {}\n",
    "for col in df_objects.columns:\n",
    "    num_nulls[col] = sum(pd.to_numeric(df_objects[col], errors='coerce').isnull())"
   ]
  },
  {
   "cell_type": "code",
   "execution_count": 92,
   "id": "1c3b80b0",
   "metadata": {},
   "outputs": [
    {
     "data": {
      "text/plain": [
       "[('ices_dayspartnerconflict', 722),\n",
       " ('ices_regularuse', 201),\n",
       " ('ices_mealhour', 31),\n",
       " ('ices_ivshare', 2),\n",
       " ('ices_ofvehicleday', 1),\n",
       " ('ices_osathour', 1),\n",
       " ('ices_length6', 1),\n",
       " ('ices_b8cannabis', 0),\n",
       " ('ices_numsex', 0),\n",
       " ('ices_numpaidwork', 0)]"
      ]
     },
     "execution_count": 92,
     "metadata": {},
     "output_type": "execute_result"
    }
   ],
   "source": [
    "sorted(num_nulls.items(), key=lambda x: x[1], reverse=True)"
   ]
  },
  {
   "cell_type": "markdown",
   "id": "64e00f3d",
   "metadata": {},
   "source": [
    "Cool, now we have a list of features that we might be able to recover from all the nulls."
   ]
  },
  {
   "cell_type": "markdown",
   "id": "a30ae1e5",
   "metadata": {},
   "source": [
    "Okay well now this is a bit complicated but I'll break it down real quick:\n",
    "\n",
    "So we want to move the new numeric columns into the original dataframe and then write that new dataframe to a csv file. We have a df_objects which contains the object columns we might want to keep. We will map the df_object to df then drop the columns that remain. \n",
    "\n",
    "We started with 119 object columns --> we now have 32."
   ]
  },
  {
   "cell_type": "code",
   "execution_count": 93,
   "id": "4589f8ef",
   "metadata": {},
   "outputs": [],
   "source": [
    "df.drop(df.loc[:,~df.columns.isin(df_objects.columns)].select_dtypes('object').columns, axis=1, inplace=True)"
   ]
  },
  {
   "cell_type": "markdown",
   "id": "f2cde9ea",
   "metadata": {},
   "source": [
    "Let me explain what just happened:\n",
    "\n",
    "* `df.loc[:,~df.columns.isin(df_objects.columns)]` will select columns that are not in df_objects\n",
    "* `.select_dtypes('object').columns` will select object columns\n",
    "* `df.drop()` will drop the result\n",
    "\n",
    "tl;dr we dropped object columns that were not in df_objects :)"
   ]
  },
  {
   "cell_type": "markdown",
   "id": "e6651ea7",
   "metadata": {},
   "source": [
    "We should convert columns into numerics first then move it from df_objects to df"
   ]
  },
  {
   "cell_type": "code",
   "execution_count": 94,
   "id": "1fdbbcdb",
   "metadata": {},
   "outputs": [
    {
     "name": "stderr",
     "output_type": "stream",
     "text": [
      "C:\\Users\\Hafez\\AppData\\Local\\Programs\\Python\\Python39\\lib\\site-packages\\pandas\\core\\indexing.py:1843: SettingWithCopyWarning: \n",
      "A value is trying to be set on a copy of a slice from a DataFrame.\n",
      "Try using .loc[row_indexer,col_indexer] = value instead\n",
      "\n",
      "See the caveats in the documentation: https://pandas.pydata.org/pandas-docs/stable/user_guide/indexing.html#returning-a-view-versus-a-copy\n",
      "  self.obj[item_labels[indexer[info_axis]]] = value\n",
      "C:\\Users\\Hafez\\AppData\\Local\\Programs\\Python\\Python39\\lib\\site-packages\\pandas\\core\\indexing.py:1676: SettingWithCopyWarning: \n",
      "A value is trying to be set on a copy of a slice from a DataFrame.\n",
      "Try using .loc[row_indexer,col_indexer] = value instead\n",
      "\n",
      "See the caveats in the documentation: https://pandas.pydata.org/pandas-docs/stable/user_guide/indexing.html#returning-a-view-versus-a-copy\n",
      "  self._setitem_single_column(ilocs[0], value, pi)\n"
     ]
    }
   ],
   "source": [
    "for col in df_objects.columns:\n",
    "    df_objects.loc[:, col] = pd.to_numeric(df_objects[col], errors='coerce')"
   ]
  },
  {
   "cell_type": "code",
   "execution_count": 95,
   "id": "a521455f",
   "metadata": {},
   "outputs": [
    {
     "name": "stdout",
     "output_type": "stream",
     "text": [
      "<class 'pandas.core.frame.DataFrame'>\n",
      "RangeIndex: 1734 entries, 0 to 1733\n",
      "Data columns (total 10 columns):\n",
      " #   Column                    Non-Null Count  Dtype  \n",
      "---  ------                    --------------  -----  \n",
      " 0   ices_b8cannabis           1734 non-null   int64  \n",
      " 1   ices_ivshare              1732 non-null   float64\n",
      " 2   ices_numsex               1734 non-null   int64  \n",
      " 3   ices_dayspartnerconflict  1012 non-null   float64\n",
      " 4   ices_numpaidwork          1734 non-null   float64\n",
      " 5   ices_ofvehicleday         1733 non-null   float64\n",
      " 6   ices_mealhour             1703 non-null   float64\n",
      " 7   ices_osathour             1733 non-null   float64\n",
      " 8   ices_length6              1733 non-null   float64\n",
      " 9   ices_regularuse           1533 non-null   float64\n",
      "dtypes: float64(8), int64(2)\n",
      "memory usage: 135.6 KB\n"
     ]
    }
   ],
   "source": [
    "df_objects.info()"
   ]
  },
  {
   "cell_type": "markdown",
   "id": "6bb11f2d",
   "metadata": {},
   "source": [
    "NOW we can move the final df_object into the original df."
   ]
  },
  {
   "cell_type": "code",
   "execution_count": 96,
   "id": "eb9adab2",
   "metadata": {},
   "outputs": [],
   "source": [
    "for col in df_objects.columns:\n",
    "    df.loc[:, col] = df_objects.loc[:, col].copy()"
   ]
  },
  {
   "cell_type": "code",
   "execution_count": 97,
   "id": "3ec34b39",
   "metadata": {},
   "outputs": [
    {
     "data": {
      "text/plain": [
       "int64      373\n",
       "float64     80\n",
       "dtype: int64"
      ]
     },
     "execution_count": 97,
     "metadata": {},
     "output_type": "execute_result"
    }
   ],
   "source": [
    "df.dtypes.value_counts()"
   ]
  },
  {
   "cell_type": "markdown",
   "id": "dfb3b4c5",
   "metadata": {},
   "source": [
    "### Wow we did it, we converted a whole bunch of objects to floats/ints BUTTTT we still have nulls that we need to take care of :P"
   ]
  },
  {
   "cell_type": "code",
   "execution_count": 98,
   "id": "4177f672",
   "metadata": {},
   "outputs": [],
   "source": [
    "df.to_csv('patient_data_numeric_edited.csv', index=False)"
   ]
  },
  {
   "cell_type": "markdown",
   "id": "7124ce75",
   "metadata": {},
   "source": [
    "# Regular Expression Exp"
   ]
  },
  {
   "cell_type": "code",
   "execution_count": 31,
   "id": "50d43a68",
   "metadata": {},
   "outputs": [
    {
     "data": {
      "text/plain": [
       "0                            No\n",
       "1                          None\n",
       "2              valium , effexor\n",
       "3                            No\n",
       "4         Citraline, Olanzapine\n",
       "                 ...           \n",
       "1729                         No\n",
       "1730    Amitriptyline, cipralex\n",
       "1731                       none\n",
       "1732                          0\n",
       "1733                         no\n",
       "Name: ices_mentalhealthmeds, Length: 1734, dtype: object"
      ]
     },
     "execution_count": 31,
     "metadata": {},
     "output_type": "execute_result"
    }
   ],
   "source": [
    "col = 'ices_mentalhealthmeds'\n",
    "\n",
    "df[col]"
   ]
  },
  {
   "cell_type": "markdown",
   "id": "19018339",
   "metadata": {},
   "source": [
    "If record has 'no' or 'none' or any variation of this, then they do not take meds, therefore 0. If they do have a drug we are hoping the drug doesn't have 'no' in it."
   ]
  },
  {
   "cell_type": "code",
   "execution_count": 61,
   "id": "7e5224e4",
   "metadata": {},
   "outputs": [
    {
     "data": {
      "text/plain": [
       "str"
      ]
     },
     "execution_count": 61,
     "metadata": {},
     "output_type": "execute_result"
    }
   ],
   "source": [
    "type(df['ices_mentalhealthmeds'].iloc[1732])"
   ]
  },
  {
   "cell_type": "code",
   "execution_count": 46,
   "id": "095dffe6",
   "metadata": {},
   "outputs": [],
   "source": [
    "no = 'no'"
   ]
  },
  {
   "cell_type": "markdown",
   "id": "e1ddb5d0",
   "metadata": {},
   "source": [
    "no, noo, none, NO, no9812398123981iuehfjka"
   ]
  },
  {
   "cell_type": "code",
   "execution_count": 71,
   "id": "85a63924",
   "metadata": {},
   "outputs": [],
   "source": [
    "string = 'yes'"
   ]
  },
  {
   "cell_type": "code",
   "execution_count": 72,
   "id": "69567dcf",
   "metadata": {},
   "outputs": [],
   "source": [
    "def has_no(col):\n",
    "    try:\n",
    "        if len(re.findall(r'^[\\(no\\)0]*', col.lower())) == 1:\n",
    "            return 0\n",
    "        else:\n",
    "            return 1\n",
    "    except:\n",
    "        return 0\n",
    "        \n"
   ]
  },
  {
   "cell_type": "code",
   "execution_count": 73,
   "id": "5d5fab74",
   "metadata": {},
   "outputs": [
    {
     "data": {
      "text/plain": [
       "0"
      ]
     },
     "execution_count": 73,
     "metadata": {},
     "output_type": "execute_result"
    }
   ],
   "source": [
    "has_no(string)"
   ]
  },
  {
   "cell_type": "code",
   "execution_count": 57,
   "id": "1aba5be4",
   "metadata": {
    "scrolled": true
   },
   "outputs": [
    {
     "data": {
      "text/plain": [
       "0       0\n",
       "1       0\n",
       "2       1\n",
       "3       0\n",
       "4       1\n",
       "       ..\n",
       "1729    0\n",
       "1730    1\n",
       "1731    0\n",
       "1732    1\n",
       "1733    0\n",
       "Name: ices_mentalhealthmeds, Length: 1734, dtype: int64"
      ]
     },
     "execution_count": 57,
     "metadata": {},
     "output_type": "execute_result"
    }
   ],
   "source": [
    "df['ices_mentalhealthmeds'].apply(has_no)"
   ]
  },
  {
   "cell_type": "code",
   "execution_count": 83,
   "id": "cd38973c",
   "metadata": {},
   "outputs": [],
   "source": [
    "for col in df_objects:\n",
    "    df.loc[:,col] = df_objects.loc[:,col]"
   ]
  },
  {
   "cell_type": "code",
   "execution_count": 51,
   "id": "b4678235",
   "metadata": {},
   "outputs": [],
   "source": [
    "no = 'yes'"
   ]
  },
  {
   "cell_type": "code",
   "execution_count": 71,
   "id": "029a6171",
   "metadata": {},
   "outputs": [],
   "source": [
    "def has_no(col):\n",
    "    try:\n",
    "        if len(re.findall(r'^no*',col.lower())):\n",
    "            return 0\n",
    "        return 1\n",
    "    except:\n",
    "        return 0"
   ]
  },
  {
   "cell_type": "code",
   "execution_count": 57,
   "id": "27e7f235",
   "metadata": {
    "scrolled": true
   },
   "outputs": [
    {
     "data": {
      "text/plain": [
       "1"
      ]
     },
     "execution_count": 57,
     "metadata": {},
     "output_type": "execute_result"
    }
   ],
   "source": [
    "has_no(no)"
   ]
  },
  {
   "cell_type": "code",
   "execution_count": 72,
   "id": "87862008",
   "metadata": {},
   "outputs": [
    {
     "name": "stderr",
     "output_type": "stream",
     "text": [
      "/usr/local/lib/python3.7/site-packages/pandas/core/indexing.py:845: SettingWithCopyWarning: \n",
      "A value is trying to be set on a copy of a slice from a DataFrame.\n",
      "Try using .loc[row_indexer,col_indexer] = value instead\n",
      "\n",
      "See the caveats in the documentation: https://pandas.pydata.org/pandas-docs/stable/user_guide/indexing.html#returning-a-view-versus-a-copy\n",
      "  self.obj[key] = _infer_fill_value(value)\n",
      "/usr/local/lib/python3.7/site-packages/pandas/core/indexing.py:966: SettingWithCopyWarning: \n",
      "A value is trying to be set on a copy of a slice from a DataFrame.\n",
      "Try using .loc[row_indexer,col_indexer] = value instead\n",
      "\n",
      "See the caveats in the documentation: https://pandas.pydata.org/pandas-docs/stable/user_guide/indexing.html#returning-a-view-versus-a-copy\n",
      "  self.obj[item] = s\n"
     ]
    }
   ],
   "source": [
    "df_objects.loc[:,'ices_mentalhealthmeds_bin'] = df_objects['ices_mentalhealthmeds'].apply(has_no).copy()"
   ]
  },
  {
   "cell_type": "code",
   "execution_count": null,
   "id": "07501c8d",
   "metadata": {},
   "outputs": [],
   "source": []
  },
  {
   "cell_type": "code",
   "execution_count": 76,
   "id": "7f018a61",
   "metadata": {},
   "outputs": [
    {
     "data": {
      "text/plain": [
       "0    969\n",
       "1    765\n",
       "Name: ices_mentalhealthmeds_bin, dtype: int64"
      ]
     },
     "execution_count": 76,
     "metadata": {},
     "output_type": "execute_result"
    }
   ],
   "source": [
    "df_objects.ices_mentalhealthmeds_bin.value_counts()"
   ]
  },
  {
   "cell_type": "code",
   "execution_count": 9,
   "id": "dcac1e63",
   "metadata": {
    "scrolled": true
   },
   "outputs": [
    {
     "data": {
      "text/plain": [
       "[('ices_caseid', 1734),\n",
       " ('ices_addcomm1', 1734),\n",
       " ('ices_othereth', 1734),\n",
       " ('ices_lastworking', 1734),\n",
       " ('ices_howother', 1734),\n",
       " ('ices_datelastdose', 1734),\n",
       " ('ices_otherprescript', 1734),\n",
       " ('ices_b9name', 1734),\n",
       " ('ices_urinestartbase', 1734),\n",
       " ('ices_urineendbase', 1734),\n",
       " ('ices_dose3', 1734),\n",
       " ('ices_urinestart3', 1734),\n",
       " ('ices_urineend3', 1734),\n",
       " ('ices_dose6', 1734),\n",
       " ('ices_urinestart6', 1734),\n",
       " ('ices_urineend6', 1734),\n",
       " ('ices_dose9', 1734),\n",
       " ('ices_urinestart9', 1734),\n",
       " ('ices_urineend9', 1734),\n",
       " ('ices_dose12', 1734),\n",
       " ('ices_urinestart12', 1734),\n",
       " ('ices_urineend12', 1734),\n",
       " ('ices_postgenoa', 1734),\n",
       " ('ices_ethmixed', 1734),\n",
       " ('ices_occupation', 1734),\n",
       " ('ices_nameofscript', 1734),\n",
       " ('ices_nocontinuescript', 1734),\n",
       " ('ices_opioiddependence', 1734),\n",
       " ('ices_howotherdepend', 1734),\n",
       " ('Ices_currentopoth', 1734),\n",
       " ('ices_edreasonother', 1734),\n",
       " ('ices_obtainnal', 1734),\n",
       " ('ices_subvape', 1734),\n",
       " ('ices_otherosat', 1734),\n",
       " ('ices_goalsosat', 1734),\n",
       " ('ices_anyotherosat', 1734),\n",
       " ('ices_opioidmedname', 1734),\n",
       " ('ices_famotherexpl', 1734),\n",
       " ('ices_othersub', 1734),\n",
       " ('ices_mjmethodother', 1734),\n",
       " ('ices_mjtype', 1734),\n",
       " ('ices_mjsituationother', 1734),\n",
       " ('ices_mjeffectother', 1734),\n",
       " ('ices_othersideeffect', 1734),\n",
       " ('ices_yesnegativemotion', 1734),\n",
       " ('ices_diseasemj', 1734),\n",
       " ('ices_othermjobtain', 1734),\n",
       " ('ices_medreasonmj', 1734),\n",
       " ('ices_whereother', 1734),\n",
       " ('ices_legalprescriptmj', 1734),\n",
       " ('ices_salivadate', 1734),\n",
       " ('ices_salivanumber', 1734),\n",
       " ('ices_urinelabel', 1734),\n",
       " ('ices_addcomm3', 1734),\n",
       " ('ices_addcomm6', 1734),\n",
       " ('ices_addcomm9', 1734),\n",
       " ('ices_addcomm12', 1734),\n",
       " ('ices_mjlegal', 1733),\n",
       " ('ices_mjeffecttreatment', 1733),\n",
       " ('ices_doseaddcomm2', 1733),\n",
       " ('ices_b4name', 1732),\n",
       " ('ices_medhistory', 1732),\n",
       " ('ices_mjlegaluse', 1732),\n",
       " ('ices_doseaddcomm1', 1731),\n",
       " ('ices_b3amount', 1730),\n",
       " ('ices_timesfraud', 1724),\n",
       " ('ices_currentmeds', 1723),\n",
       " ('ices_b4amount', 1721),\n",
       " ('ices_mentalhealthmeds', 1721),\n",
       " ('ices_addcomm2', 1720),\n",
       " ('ices_b6amount', 1716),\n",
       " ('ices_b9amount', 1716),\n",
       " ('ices_b5amount', 1712),\n",
       " ('ices_b7amount', 1712),\n",
       " ('ices_b2amount', 1710),\n",
       " ('ices_b1amount', 1705),\n",
       " ('ices_averagemjuse', 1701),\n",
       " ('ices_b8amount', 1682),\n",
       " ('ices_timesselldrug', 1632),\n",
       " ('ices_b9days', 1540),\n",
       " ('ices_ivtimes', 1528),\n",
       " ('ices_ivshare', 1525),\n",
       " ('ices_yeshospital', 1459),\n",
       " ('ices_opioidmoney', 1388),\n",
       " ('ices_unclenum', 1384),\n",
       " ('ices_naltimes', 1361),\n",
       " ('ices_timesod', 1242),\n",
       " ('ices_edtimes', 1197),\n",
       " ('ices_othercrime', 1151),\n",
       " ('ices_missedwork', 1126),\n",
       " ('ices_mjmoney', 918),\n",
       " ('ices_dayspartnerconflict', 722),\n",
       " ('ices_daysfriendsconflict', 374),\n",
       " ('ices_daysrelativesconflict', 246),\n",
       " ('ices_regularuse', 203),\n",
       " ('ices_totalyearsused', 151),\n",
       " ('ices_osathour', 99),\n",
       " ('ices_currentdosetime', 63),\n",
       " ('ices_dosetime3', 58),\n",
       " ('ices_dosetime6', 49),\n",
       " ('ices_mealhour', 32),\n",
       " ('ices_weight', 14),\n",
       " ('ices_dosetime9', 13),\n",
       " ('ices_timessex', 12),\n",
       " ('ices_height', 8),\n",
       " ('ices_dosetime12', 7),\n",
       " ('ices_lengthosat', 6),\n",
       " ('ices_selldrug', 6),\n",
       " ('ices_ofvehicleday', 5),\n",
       " ('ices_numsex', 4),\n",
       " ('ices_formunempl', 4),\n",
       " ('ices_propertyday', 4),\n",
       " ('ices_fromvehicleday', 4),\n",
       " ('ices_length12', 4),\n",
       " ('ices_numpaidwork', 3),\n",
       " ('ices_b5cocaine', 2),\n",
       " ('ices_b7amph', 2),\n",
       " ('ices_length3', 2),\n",
       " ('ices_length9', 2),\n",
       " ('ices_b2heroin', 1),\n",
       " ('ices_b4benzo', 1),\n",
       " ('ices_b6crack', 1),\n",
       " ('ices_b8cannabis', 1),\n",
       " ('ices_length6', 1)]"
      ]
     },
     "execution_count": 9,
     "metadata": {},
     "output_type": "execute_result"
    }
   ],
   "source": [
    "sorted(num_nulls.items(), key=lambda x: x[1], reverse=True)"
   ]
  },
  {
   "cell_type": "markdown",
   "id": "bf87927f",
   "metadata": {},
   "source": [
    "1) try pd.to_numerics(error='coerce') --> converts any non-numeric entry to a NULL\n",
    "2) count the nulls\n",
    "3) if the nulls are really small then dont drop the column\n",
    "\n"
   ]
  },
  {
   "cell_type": "markdown",
   "id": "b39d96ff",
   "metadata": {},
   "source": [
    "* ices_daysfriendsconflict : convert to 0\n",
    "* ices_regularuse : convert to 0\n",
    "* ices_totalyearsused : split string, if num take num else 0\n"
   ]
  },
  {
   "cell_type": "code",
   "execution_count": 10,
   "id": "328e1d8d",
   "metadata": {},
   "outputs": [],
   "source": [
    "col = 'ices_weight'"
   ]
  },
  {
   "cell_type": "code",
   "execution_count": 14,
   "id": "1527bfb8",
   "metadata": {},
   "outputs": [
    {
     "data": {
      "text/plain": [
       "14"
      ]
     },
     "execution_count": 14,
     "metadata": {},
     "output_type": "execute_result"
    }
   ],
   "source": [
    "sum(pd.to_numeric(df_objects[col], errors='coerce').isna())"
   ]
  },
  {
   "cell_type": "code",
   "execution_count": 20,
   "id": "5b8cc2b4",
   "metadata": {},
   "outputs": [],
   "source": [
    "df.loc[pd.to_numeric(df[col], errors='coerce').isnull(),col] = 0"
   ]
  },
  {
   "cell_type": "code",
   "execution_count": 21,
   "id": "4ae96dbe",
   "metadata": {},
   "outputs": [
    {
     "data": {
      "text/plain": [
       "Series([], Name: ices_weight, dtype: object)"
      ]
     },
     "execution_count": 21,
     "metadata": {},
     "output_type": "execute_result"
    }
   ],
   "source": [
    "df.loc[pd.to_numeric(df[col], errors='coerce').isnull(),col]"
   ]
  },
  {
   "cell_type": "code",
   "execution_count": 16,
   "id": "9ca35b0c",
   "metadata": {},
   "outputs": [
    {
     "data": {
      "text/plain": [
       "0        68\n",
       "1        84\n",
       "2        52\n",
       "3        66\n",
       "4        61\n",
       "       ... \n",
       "1729     99\n",
       "1730     66\n",
       "1731     66\n",
       "1732    NaN\n",
       "1733     54\n",
       "Name: ices_weight, Length: 1734, dtype: object"
      ]
     },
     "execution_count": 16,
     "metadata": {},
     "output_type": "execute_result"
    }
   ],
   "source": [
    "df[col]"
   ]
  },
  {
   "cell_type": "code",
   "execution_count": 17,
   "id": "16589cce",
   "metadata": {},
   "outputs": [
    {
     "data": {
      "text/plain": [
       "0       False\n",
       "1       False\n",
       "2       False\n",
       "3       False\n",
       "4       False\n",
       "        ...  \n",
       "1729    False\n",
       "1730    False\n",
       "1731    False\n",
       "1732     True\n",
       "1733    False\n",
       "Name: ices_weight, Length: 1734, dtype: bool"
      ]
     },
     "execution_count": 17,
     "metadata": {},
     "output_type": "execute_result"
    }
   ],
   "source": [
    "pd.to_numeric(df[col], errors='coerce').isnull()\n"
   ]
  },
  {
   "cell_type": "code",
   "execution_count": null,
   "id": "3b3083a9",
   "metadata": {},
   "outputs": [],
   "source": [
    "def print_nonnumeric(col):\n",
    "    "
   ]
  },
  {
   "cell_type": "code",
   "execution_count": 85,
   "id": "f52666fd",
   "metadata": {},
   "outputs": [],
   "source": [
    "df.to_csv('patient_data_trimmed_numericed.csv')"
   ]
  },
  {
   "cell_type": "code",
   "execution_count": 87,
   "id": "5be58f24",
   "metadata": {},
   "outputs": [
    {
     "ename": "NameError",
     "evalue": "name 'df_obj' is not defined",
     "output_type": "error",
     "traceback": [
      "\u001b[0;31m---------------------------------------------------------------------------\u001b[0m",
      "\u001b[0;31mNameError\u001b[0m                                 Traceback (most recent call last)",
      "\u001b[0;32m<ipython-input-87-c87d2136269d>\u001b[0m in \u001b[0;36m<module>\u001b[0;34m\u001b[0m\n\u001b[0;32m----> 1\u001b[0;31m \u001b[0mdf_obj\u001b[0m\u001b[0;34m\u001b[0m\u001b[0;34m\u001b[0m\u001b[0m\n\u001b[0m",
      "\u001b[0;31mNameError\u001b[0m: name 'df_obj' is not defined"
     ]
    }
   ],
   "source": [
    "df_obj"
   ]
  },
  {
   "cell_type": "code",
   "execution_count": null,
   "id": "49f9fa15",
   "metadata": {},
   "outputs": [],
   "source": []
  }
 ],
 "metadata": {
  "kernelspec": {
   "display_name": "Python 3",
   "language": "python",
   "name": "python3"
  },
  "language_info": {
   "codemirror_mode": {
    "name": "ipython",
    "version": 3
   },
   "file_extension": ".py",
   "mimetype": "text/x-python",
   "name": "python",
   "nbconvert_exporter": "python",
   "pygments_lexer": "ipython3",
   "version": "3.9.1"
  }
 },
 "nbformat": 4,
 "nbformat_minor": 5
}
