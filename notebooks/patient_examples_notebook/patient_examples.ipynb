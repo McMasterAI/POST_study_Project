{
 "cells": [
  {
   "cell_type": "markdown",
   "id": "9e588c13",
   "metadata": {},
   "source": [
    "# Patient Examples: Plotting Urine and Dosage Trends\n",
    "In this notebook we will go through plotting some examples of patients that have upward or downward trends in Urine Concentration and Dosage. The main takeaway from this notebook: how to parse the csv file and plot a select sample of patients.\n",
    "\n",
    "### Steps\n",
    "* Import libraries\n",
    "* Filter for the specified patients\n",
    "* Select the relevent columns for Urine and Dosage\n",
    "* Plot the patients using matplotlib"
   ]
  },
  {
   "cell_type": "code",
   "execution_count": 49,
   "id": "700154cc",
   "metadata": {},
   "outputs": [],
   "source": [
    "import os\n",
    "import pandas as pd\n",
    "import numpy as np\n",
    "import matplotlib.pyplot as plt"
   ]
  },
  {
   "cell_type": "code",
   "execution_count": 4,
   "id": "2f76d81d",
   "metadata": {},
   "outputs": [],
   "source": [
    "# Load dataframe\n",
    "DATA_DIR = '../data'\n",
    "dataset = os.path.join(DATA_DIR, 'dta_file_converted.csv')\n",
    "\n",
    "df = pd.read_csv(dataset, low_memory=False)"
   ]
  },
  {
   "cell_type": "code",
   "execution_count": 5,
   "id": "6febd532",
   "metadata": {},
   "outputs": [
    {
     "data": {
      "text/html": [
       "<div>\n",
       "<style scoped>\n",
       "    .dataframe tbody tr th:only-of-type {\n",
       "        vertical-align: middle;\n",
       "    }\n",
       "\n",
       "    .dataframe tbody tr th {\n",
       "        vertical-align: top;\n",
       "    }\n",
       "\n",
       "    .dataframe thead th {\n",
       "        text-align: right;\n",
       "    }\n",
       "</style>\n",
       "<table border=\"1\" class=\"dataframe\">\n",
       "  <thead>\n",
       "    <tr style=\"text-align: right;\">\n",
       "      <th></th>\n",
       "      <th>Unnamed: 0</th>\n",
       "      <th>ices_caseid</th>\n",
       "      <th>ices_age</th>\n",
       "      <th>ices_sex</th>\n",
       "      <th>ices_othersex</th>\n",
       "      <th>ices_maristatus</th>\n",
       "      <th>ices_addcomm1</th>\n",
       "      <th>ices_childstatus</th>\n",
       "      <th>ices_numchild</th>\n",
       "      <th>ices_addcommch</th>\n",
       "      <th>...</th>\n",
       "      <th>ices_doseaddcomm2</th>\n",
       "      <th>ices_urinelabel</th>\n",
       "      <th>ices_addcomm3</th>\n",
       "      <th>ices_dosetime3</th>\n",
       "      <th>ices_addcomm6</th>\n",
       "      <th>ices_dosetime6</th>\n",
       "      <th>ices_addcomm9</th>\n",
       "      <th>ices_dosetime9</th>\n",
       "      <th>ices_addcomm12</th>\n",
       "      <th>ices_dosetime12</th>\n",
       "    </tr>\n",
       "  </thead>\n",
       "  <tbody>\n",
       "    <tr>\n",
       "      <th>0</th>\n",
       "      <td>0</td>\n",
       "      <td>100001</td>\n",
       "      <td>27.0</td>\n",
       "      <td>1.0</td>\n",
       "      <td>NaN</td>\n",
       "      <td>2.0</td>\n",
       "      <td>NaN</td>\n",
       "      <td>1.0</td>\n",
       "      <td>1.0</td>\n",
       "      <td>NaN</td>\n",
       "      <td>...</td>\n",
       "      <td>NaN</td>\n",
       "      <td>NaN</td>\n",
       "      <td>NaN</td>\n",
       "      <td>NaN</td>\n",
       "      <td>NaN</td>\n",
       "      <td>NaN</td>\n",
       "      <td>NaN</td>\n",
       "      <td>NaN</td>\n",
       "      <td>NaN</td>\n",
       "      <td>NaN</td>\n",
       "    </tr>\n",
       "    <tr>\n",
       "      <th>1</th>\n",
       "      <td>1</td>\n",
       "      <td>100002</td>\n",
       "      <td>23.0</td>\n",
       "      <td>1.0</td>\n",
       "      <td>NaN</td>\n",
       "      <td>0.0</td>\n",
       "      <td>NaN</td>\n",
       "      <td>1.0</td>\n",
       "      <td>1.0</td>\n",
       "      <td>NaN</td>\n",
       "      <td>...</td>\n",
       "      <td>NaN</td>\n",
       "      <td>NaN</td>\n",
       "      <td>NaN</td>\n",
       "      <td>NaN</td>\n",
       "      <td>NaN</td>\n",
       "      <td>NaN</td>\n",
       "      <td>NaN</td>\n",
       "      <td>NaN</td>\n",
       "      <td>NaN</td>\n",
       "      <td>NaN</td>\n",
       "    </tr>\n",
       "    <tr>\n",
       "      <th>2</th>\n",
       "      <td>2</td>\n",
       "      <td>100003</td>\n",
       "      <td>34.0</td>\n",
       "      <td>1.0</td>\n",
       "      <td>NaN</td>\n",
       "      <td>0.0</td>\n",
       "      <td>NaN</td>\n",
       "      <td>1.0</td>\n",
       "      <td>2.0</td>\n",
       "      <td>NaN</td>\n",
       "      <td>...</td>\n",
       "      <td>NaN</td>\n",
       "      <td>NaN</td>\n",
       "      <td>NaN</td>\n",
       "      <td>NaN</td>\n",
       "      <td>NaN</td>\n",
       "      <td>NaN</td>\n",
       "      <td>NaN</td>\n",
       "      <td>NaN</td>\n",
       "      <td>NaN</td>\n",
       "      <td>NaN</td>\n",
       "    </tr>\n",
       "    <tr>\n",
       "      <th>3</th>\n",
       "      <td>3</td>\n",
       "      <td>100005</td>\n",
       "      <td>36.0</td>\n",
       "      <td>0.0</td>\n",
       "      <td>NaN</td>\n",
       "      <td>1.0</td>\n",
       "      <td>NaN</td>\n",
       "      <td>1.0</td>\n",
       "      <td>2.0</td>\n",
       "      <td>NaN</td>\n",
       "      <td>...</td>\n",
       "      <td>NaN</td>\n",
       "      <td>NaN</td>\n",
       "      <td>NaN</td>\n",
       "      <td>NaN</td>\n",
       "      <td>NaN</td>\n",
       "      <td>NaN</td>\n",
       "      <td>NaN</td>\n",
       "      <td>NaN</td>\n",
       "      <td>NaN</td>\n",
       "      <td>NaN</td>\n",
       "    </tr>\n",
       "    <tr>\n",
       "      <th>4</th>\n",
       "      <td>4</td>\n",
       "      <td>100006</td>\n",
       "      <td>50.0</td>\n",
       "      <td>0.0</td>\n",
       "      <td>NaN</td>\n",
       "      <td>2.0</td>\n",
       "      <td>NaN</td>\n",
       "      <td>0.0</td>\n",
       "      <td>NaN</td>\n",
       "      <td>NaN</td>\n",
       "      <td>...</td>\n",
       "      <td>NaN</td>\n",
       "      <td>NaN</td>\n",
       "      <td>NaN</td>\n",
       "      <td>NaN</td>\n",
       "      <td>NaN</td>\n",
       "      <td>NaN</td>\n",
       "      <td>NaN</td>\n",
       "      <td>NaN</td>\n",
       "      <td>NaN</td>\n",
       "      <td>NaN</td>\n",
       "    </tr>\n",
       "  </tbody>\n",
       "</table>\n",
       "<p>5 rows × 2120 columns</p>\n",
       "</div>"
      ],
      "text/plain": [
       "   Unnamed: 0 ices_caseid  ices_age  ices_sex  ices_othersex  ices_maristatus  \\\n",
       "0           0      100001      27.0       1.0            NaN              2.0   \n",
       "1           1      100002      23.0       1.0            NaN              0.0   \n",
       "2           2      100003      34.0       1.0            NaN              0.0   \n",
       "3           3      100005      36.0       0.0            NaN              1.0   \n",
       "4           4      100006      50.0       0.0            NaN              2.0   \n",
       "\n",
       "  ices_addcomm1  ices_childstatus  ices_numchild ices_addcommch  ...  \\\n",
       "0           NaN               1.0            1.0            NaN  ...   \n",
       "1           NaN               1.0            1.0            NaN  ...   \n",
       "2           NaN               1.0            2.0            NaN  ...   \n",
       "3           NaN               1.0            2.0            NaN  ...   \n",
       "4           NaN               0.0            NaN            NaN  ...   \n",
       "\n",
       "   ices_doseaddcomm2 ices_urinelabel  ices_addcomm3 ices_dosetime3  \\\n",
       "0                NaN             NaN            NaN            NaN   \n",
       "1                NaN             NaN            NaN            NaN   \n",
       "2                NaN             NaN            NaN            NaN   \n",
       "3                NaN             NaN            NaN            NaN   \n",
       "4                NaN             NaN            NaN            NaN   \n",
       "\n",
       "   ices_addcomm6 ices_dosetime6  ices_addcomm9  ices_dosetime9  \\\n",
       "0            NaN            NaN            NaN             NaN   \n",
       "1            NaN            NaN            NaN             NaN   \n",
       "2            NaN            NaN            NaN             NaN   \n",
       "3            NaN            NaN            NaN             NaN   \n",
       "4            NaN            NaN            NaN             NaN   \n",
       "\n",
       "   ices_addcomm12  ices_dosetime12  \n",
       "0             NaN              NaN  \n",
       "1             NaN              NaN  \n",
       "2             NaN              NaN  \n",
       "3             NaN              NaN  \n",
       "4             NaN              NaN  \n",
       "\n",
       "[5 rows x 2120 columns]"
      ]
     },
     "execution_count": 5,
     "metadata": {},
     "output_type": "execute_result"
    }
   ],
   "source": [
    "df.head()"
   ]
  },
  {
   "cell_type": "markdown",
   "id": "94daf6e3",
   "metadata": {},
   "source": [
    "## Patient with Clear Upward/Downward Trends\n",
    "\n",
    "For simplicity we will use `ices_caseid` as the key, all indices have been converted.\n",
    "\n",
    "|          | Urine    | Dosage |\n",
    "|----------|----------|----------|\n",
    "| Downward |  <ul><li>100027 <li> 100029 <li>100057 <li>100109 <li>100169</ul> | <ul><li>100001 <li>032-0024 <li>032-0087</ul> |\n",
    "| Upward   | <ul> <li>100050 </ul> | <ul> <li>032-0090 <li>032-0121 </ul>"
   ]
  },
  {
   "cell_type": "code",
   "execution_count": 6,
   "id": "4d3d51da",
   "metadata": {},
   "outputs": [
    {
     "name": "stdout",
     "output_type": "stream",
     "text": [
      "Urine Downtrend: ['100027', '100029', '100057', '100109', '100169']\n",
      "Urine Uptrend: ['100050']\n",
      "Dosage Downtrend: ['100001', '032-0024', '032-0087']\n",
      "Dosage Uptrend: ['032-0090', '032-0121']\n"
     ]
    }
   ],
   "source": [
    "# Specific Users selected by Group A and Group B\n",
    "\n",
    "urine_down = '100027 100029 100057 100109 100169'.split()\n",
    "urine_up = '100050'.split()\n",
    "\n",
    "dosage_down = '100001 032-0024 032-0087'.split()\n",
    "dosage_up = '032-0090 032-0121'.split()\n",
    "\n",
    "print(\"Urine Downtrend: {}\".format(urine_down))\n",
    "print(\"Urine Uptrend: {}\".format(urine_up))\n",
    "print(\"Dosage Downtrend: {}\".format(dosage_down))\n",
    "print(\"Dosage Uptrend: {}\".format(dosage_up))"
   ]
  },
  {
   "cell_type": "code",
   "execution_count": 7,
   "id": "7ac23b72",
   "metadata": {},
   "outputs": [],
   "source": [
    "# Columns for tracking Urine and Dosage\n",
    "\n",
    "urine_col = ['ices_caseid',\n",
    "             'ices_amountdose',\n",
    "             'ices_currdose3', \n",
    "             'ices_currdose6', \n",
    "             'ices_currdose9', \n",
    "             'ices_currdose12']\n",
    "\n",
    "dosage_col = ['ices_caseid', \n",
    "              'ices_opioidbase',\n",
    "              'ices_opioid3', \n",
    "              'ices_opioid6', \n",
    "              'ices_opioid9', \n",
    "              'ices_opioid12']\n"
   ]
  },
  {
   "cell_type": "code",
   "execution_count": 22,
   "id": "0d7fd9f8",
   "metadata": {},
   "outputs": [],
   "source": [
    "# Separate dataframes by feature and trend\n",
    "\n",
    "df_urine_down = df.loc[df.ices_caseid.isin(urine_down), urine_col]\n",
    "df_urine_up = df.loc[df.ices_caseid.isin(urine_up), urine_col]\n",
    "\n",
    "df_dosage_down = df.loc[df.ices_caseid.isin(dosage_down), dosage_col]\n",
    "df_dosage_up = df.loc[df.ices_caseid.isin(dosage_up), dosage_col]"
   ]
  },
  {
   "cell_type": "markdown",
   "id": "3228dc18",
   "metadata": {},
   "source": [
    "## Plot Patient Examples"
   ]
  },
  {
   "cell_type": "code",
   "execution_count": 114,
   "id": "9fd58f74",
   "metadata": {},
   "outputs": [],
   "source": [
    "# These are the columns used to label x-axis and y-axis\n",
    "\n",
    "x_urine_cols = ['Base', '3 M', '6 M', '9 M', '12 M']\n",
    "y_urine_cols = 'ices_amountdose ices_currdose3 ices_currdose6 ices_currdose9 ices_currdose12'.split()\n",
    "\n",
    "x_dosage_cols = x_urine_cols\n",
    "y_dosage_cols = ['ices_opioidbase','ices_opioid3', 'ices_opioid6', 'ices_opioid9', 'ices_opioid12']"
   ]
  },
  {
   "cell_type": "code",
   "execution_count": 97,
   "id": "8315af1c",
   "metadata": {},
   "outputs": [
    {
     "data": {
      "text/plain": [
       "Text(0, 0.5, 'Urine')"
      ]
     },
     "execution_count": 97,
     "metadata": {},
     "output_type": "execute_result"
    },
    {
     "data": {
      "image/png": "[encoded data removed]",
      "text/plain": [
       "<Figure size 720x432 with 1 Axes>"
      ]
     },
     "metadata": {
      "needs_background": "light"
     },
     "output_type": "display_data"
    }
   ],
   "source": [
    "fig,ax = plt.subplots(figsize=(10,6))\n",
    "\n",
    "# Iterate through the dataframe and plot each row\n",
    "for row in df_urine_down.iterrows():\n",
    "    data = row[1]\n",
    "    ax.scatter(x=x_urine_cols, y=data[y_urine_cols], label=data['ices_caseid'])\n",
    "\n",
    "ax.legend()\n",
    "ax.set_title('URINE - Downward Patient Examples')\n",
    "ax.set_xlabel('Time')\n",
    "ax.set_ylabel('Urine')"
   ]
  },
  {
   "cell_type": "code",
   "execution_count": 98,
   "id": "962dc7af",
   "metadata": {},
   "outputs": [
    {
     "data": {
      "text/plain": [
       "Text(0, 0.5, 'Urine')"
      ]
     },
     "execution_count": 98,
     "metadata": {},
     "output_type": "execute_result"
    },
    {
     "data": {
      "image/png": "[encoded data removed]",
      "text/plain": [
       "<Figure size 720x432 with 1 Axes>"
      ]
     },
     "metadata": {
      "needs_background": "light"
     },
     "output_type": "display_data"
    }
   ],
   "source": [
    "fig,ax = plt.subplots(figsize=(10,6))\n",
    "\n",
    "for row in df_urine_up.iterrows():\n",
    "    data = row[1]\n",
    "    ax.scatter(x=x_urine_cols, y=data[y_urine_cols], label=data['ices_caseid'])\n",
    "\n",
    "ax.legend()\n",
    "ax.set_title('URINE - Upward Patient Examples')\n",
    "ax.set_xlabel('Time')\n",
    "ax.set_ylabel('Urine')"
   ]
  },
  {
   "cell_type": "code",
   "execution_count": 103,
   "id": "08fe4267",
   "metadata": {},
   "outputs": [
    {
     "data": {
      "text/plain": [
       "Text(0, 0.5, 'Dosage')"
      ]
     },
     "execution_count": 103,
     "metadata": {},
     "output_type": "execute_result"
    },
    {
     "data": {
      "image/png": "[encoded data removed]",
      "text/plain": [
       "<Figure size 720x432 with 1 Axes>"
      ]
     },
     "metadata": {
      "needs_background": "light"
     },
     "output_type": "display_data"
    }
   ],
   "source": [
    "fig,ax = plt.subplots(figsize=(10,6))\n",
    "\n",
    "for row in df_dosage_down.iterrows():\n",
    "    data = row[1]\n",
    "    ax.scatter(x=x_dosage_cols, y=data[y_dosage_cols], label=data['ices_caseid'])\n",
    "\n",
    "ax.legend()\n",
    "ax.set_title('DOSAGE - Downward Patient Examples')\n",
    "ax.set_xlabel('Time')\n",
    "ax.set_ylabel('Dosage')"
   ]
  },
  {
   "cell_type": "code",
   "execution_count": 104,
   "id": "8213cc48",
   "metadata": {},
   "outputs": [
    {
     "data": {
      "text/plain": [
       "Text(0, 0.5, 'Dosage')"
      ]
     },
     "execution_count": 104,
     "metadata": {},
     "output_type": "execute_result"
    },
    {
     "data": {
      "image/png": "[encoded data removed]",
      "text/plain": [
       "<Figure size 720x432 with 1 Axes>"
      ]
     },
     "metadata": {
      "needs_background": "light"
     },
     "output_type": "display_data"
    }
   ],
   "source": [
    "fig,ax = plt.subplots(figsize=(10,6))\n",
    "\n",
    "for row in df_dosage_up.iterrows():\n",
    "    data = row[1]\n",
    "    ax.scatter(x=x_dosage_cols, y=data[y_dosage_cols], label=data['ices_caseid'])\n",
    "\n",
    "ax.legend()\n",
    "ax.set_title('DOSAGE - Upward Patient Examples')\n",
    "ax.set_xlabel('Time')\n",
    "ax.set_ylabel('Dosage')"
   ]
  },
  {
   "cell_type": "code",
   "execution_count": null,
   "id": "a57e431a",
   "metadata": {},
   "outputs": [],
   "source": []
  }
 ],
 "metadata": {
  "kernelspec": {
   "display_name": "Python 3",
   "language": "python",
   "name": "python3"
  },
  "language_info": {
   "codemirror_mode": {
    "name": "ipython",
    "version": 3
   },
   "file_extension": ".py",
   "mimetype": "text/x-python",
   "name": "python",
   "nbconvert_exporter": "python",
   "pygments_lexer": "ipython3",
   "version": "3.9.1"
  }
 },
 "nbformat": 4,
 "nbformat_minor": 5
}
